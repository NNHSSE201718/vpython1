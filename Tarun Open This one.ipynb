{
 "cells": [
  {
   "cell_type": "code",
   "execution_count": 9,
   "metadata": {},
   "outputs": [],
   "source": [
    "!pip install vpython"
   ]
  },
  {
   "cell_type": "code",
   "execution_count": 18,
   "metadata": {},
   "outputs": [
    {
     "name": "stdout",
     "output_type": "stream",
     "text": [
      "7.4.2\n",
      "<vpython.vpython.sphere object at 0x00000115258E85F8>\n",
      "Create Graph\n",
      "[[0, 0, 1.0, 0], [0, 0, 0.5, 0], [0, 0, 0.3333333333333333, 0], [0, 0, 0.25, 0], [0, 0, 0.2, 0]]\n"
     ]
    }
   ],
   "source": [
    "from vpython import *\n",
    "from graph_functions import graph_simpletrig, graph_sumtrig\n",
    "import math\n",
    "import time\n",
    "\n",
    "\n",
    "#set amplitude of the graph that is being changed\n",
    "def setAmplitude(s):\n",
    "    global all_graphs\n",
    "    global allBars\n",
    "    global allTexts\n",
    "    allTexts[allBars.index(s)].text=s.value\n",
    "    all_graphs[allBars.index(s)][1]=s.value\n",
    "    createGraph()\n",
    "\n",
    "#create the graph by first deleting old code\n",
    "def createGraph():\n",
    "    global all_graphs\n",
    "    global curve1\n",
    "    global gd\n",
    "    global visCurve\n",
    "    print(\"Create Graph\")\n",
    "    curve1.visible = False\n",
    "    curve1.delete()\n",
    "    gd.delete()\n",
    "    gd = graph(width=600, height=300,\n",
    "          title='<b>The Greatest Curve of All Time</b>',\n",
    "          xtitle='<i>x</i>', ytitle='<i>y</sup>',\n",
    "          foreground=color.black, background=color.white,\n",
    "          xmin=0, xmax=6*math.pi, ymin=-5, ymax=5)\n",
    "    curve1 = graph_sumtrig(curve1,all_graphs,color.blue,gd,visCurve)\n",
    "    displayFunctions()\n",
    "\n",
    "def displayFunctions():\n",
    "    global t\n",
    "    global all_graphs\n",
    "    setText = ''\n",
    "    for i in range(len(all_graphs)):\n",
    "        if all_graphs[i][1]==0:\n",
    "            continue\n",
    "        setText+=str(all_graphs[i][1])\n",
    "        if all_graphs[i][0]:\n",
    "            setText+=\"cos(\"\n",
    "        else:\n",
    "            setText+=\"sin(\"\n",
    "        setText+=str(round(all_graphs[i][2],3))+\"θ)+\"+str(all_graphs[i][3])+\"  \"\n",
    "    t.text = \"\\t\" + setText\n",
    "\n",
    "\n",
    "#sphere()\n",
    "amt_of_bars = 5\n",
    "all_graphs = []\n",
    "gd = graph(width=600, height=300,\n",
    "      title='<b>The Greatest Curve of All Time</b>',\n",
    "      xtitle='<i>x</i>', ytitle='<i>y</sup>',\n",
    "      foreground=color.black, background=color.white,\n",
    "      xmin=-4*math.pi, xmax=4*math.pi, ymin=-5, ymax=5)\n",
    "curve1 = gcurve(color =color.blue,graph=gd )\n",
    "allBars = []\n",
    "allTexts = []\n",
    "visCurve = curve()\n",
    "df = wtext(text = \"Display Function:\")\n",
    "t = wtext(text = 'Function: ', align = 'center' )\n",
    "\n",
    "#Create all the lists which contain the graphs\n",
    "for i in range(amt_of_bars):\n",
    "    all_graphs.append([0,0,float(1/(i+1)),0])\n",
    "\n",
    "#Creates all the sliders\n",
    "for i in range(amt_of_bars):\n",
    "    scene.append_to_caption('\\n\\n')\n",
    "    allBars.append(slider(min=-1.2, max=1.2, value=0, length=100, bind=setAmplitude,vertical=False,left=20,right=20))\n",
    "    wtext(text = (\"Graph \"+str(i+1)+\":\\t\"))\n",
    "    allTexts.append(wtext(text=str(allBars[i].value)))\n",
    "\n",
    "#creates initial graph\n",
    "createGraph()\n",
    "print (all_graphs)\n",
    "\n"
   ]
  }
 ],
 "metadata": {
  "kernelspec": {
   "display_name": "Python 3",
   "language": "python",
   "name": "python3"
  },
  "language_info": {
   "codemirror_mode": {
    "name": "ipython",
    "version": 3
   },
   "file_extension": ".py",
   "mimetype": "text/x-python",
   "name": "python",
   "nbconvert_exporter": "python",
   "pygments_lexer": "ipython3",
   "version": "3.6.2"
  }
 },
 "nbformat": 4,
 "nbformat_minor": 2
}

{
 "cells": [
  {
   "cell_type": "code",
   "execution_count": 5,
   "metadata": {},
   "outputs": [
    {
     "data": {
      "text/html": [
       "<div id=\"glowscript\" class=\"glowscript\"></div>"
      ],
      "text/plain": [
       "<IPython.core.display.HTML object>"
      ]
     },
     "metadata": {},
     "output_type": "display_data"
    },
    {
     "data": {
      "application/javascript": [
       "window.__context = { glowscript_container: $(\"#glowscript\").removeAttr(\"id\")}"
      ],
      "text/plain": [
       "<IPython.core.display.Javascript object>"
      ]
     },
     "metadata": {},
     "output_type": "display_data"
    }
   ],
   "source": [
    "from vpython import *\n",
    "scene = canvas()\n"
   ]
  },
  {
   "cell_type": "code",
   "execution_count": 6,
   "metadata": {},
   "outputs": [
    {
     "name": "stdout",
     "output_type": "stream",
     "text": [
      "7.4.3\n"
     ]
    }
   ],
   "source": [
    "from graph_functions import graph_simpletrig, graph_sumtrig\n",
    "print(vpython.__version__)\n",
    "sphere()\n",
    "amt_of_bars = 5\n",
    "all_graphs = []\n",
    "for i in range(amt_of_bars):\n",
    "    all_graphs.append([0,0,1,0])\n",
    "\n",
    "def setAmplitude(s):\n",
    "    global all_graphs\n",
    "    global allBars\n",
    "    all_graphs[allBars.index(s)][1]=s.value\n",
    "    print(all_graphs)\n",
    "    createGraph()\n",
    "def createGraph():\n",
    "    global all_graphs\n",
    "    graph_sumtrig(all_graphs,color.blue)\n",
    "\n",
    "allBars = []\n",
    "for i in range(amt_of_bars):\n",
    "    allBars.append(slider(min=0, max=5, value=3, length=100, bind=setAmplitude, right=90))\n"
   ]
  },
  {
   "cell_type": "code",
   "execution_count": null,
   "metadata": {},
   "outputs": [],
   "source": []
  }
 ],
 "metadata": {
  "kernelspec": {
   "display_name": "Python 3",
   "language": "python",
   "name": "python3"
  },
  "language_info": {
   "codemirror_mode": {
    "name": "ipython",
    "version": 3
   },
   "file_extension": ".py",
   "mimetype": "text/x-python",
   "name": "python",
   "nbconvert_exporter": "python",
   "pygments_lexer": "ipython3",
   "version": "3.6.2"
  }
 },
 "nbformat": 4,
 "nbformat_minor": 2
}

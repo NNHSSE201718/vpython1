{
 "cells": [
  {
   "cell_type": "code",
   "execution_count": 1,
   "metadata": {},
   "outputs": [
    {
     "data": {
      "text/html": [
       "\n",
       "<script>\n",
       "  function code_toggle() {\n",
       "    if (code_shown){\n",
       "      $('div.input').hide('500');\n",
       "      $('#toggleButton').val('Show Code')\n",
       "    } else {\n",
       "      $('div.input').show('500');\n",
       "      $('#toggleButton').val('Hide Code')\n",
       "    }\n",
       "    code_shown = !code_shown\n",
       "  }\n",
       "\n",
       "  $( document ).ready(function(){\n",
       "    code_shown=false;\n",
       "    $('div.input').hide()\n",
       "  });\n",
       "</script>\n",
       "<form action=\"javascript:code_toggle()\"><input type=\"submit\" id=\"toggleButton\" value=\"Show Code\"></form>\n",
       "\n"
      ],
      "text/plain": [
       "<IPython.core.display.HTML object>"
      ]
     },
     "execution_count": 1,
     "metadata": {},
     "output_type": "execute_result"
    }
   ],
   "source": [
    "from IPython.display import HTML\n",
    "HTML(\"\"\"\n",
    "<script>\n",
    "  function code_toggle() {\n",
    "    if (code_shown){\n",
    "      $('div.input').hide('500');\n",
    "      $('#toggleButton').val('Show Code')\n",
    "    } else {\n",
    "      $('div.input').show('500');\n",
    "      $('#toggleButton').val('Hide Code')\n",
    "    }\n",
    "    code_shown = !code_shown\n",
    "  }\n",
    "\n",
    "  $( document ).ready(function(){\n",
    "    code_shown=false;\n",
    "    $('div.input').hide()\n",
    "  });\n",
    "</script>\n",
    "<form action=\"javascript:code_toggle()\"><input type=\"submit\" id=\"toggleButton\" value=\"Show Code\"></form>\n",
    "\n",
    "\"\"\")\n"
   ]
  },
  {
   "cell_type": "code",
   "execution_count": 2,
   "metadata": {
    "scrolled": false
   },
   "outputs": [],
   "source": [
    "%%capture\n",
    "!pip install vpython\n",
    "!pip install pyaudio\n"
   ]
  },
  {
   "cell_type": "code",
   "execution_count": 3,
   "metadata": {},
   "outputs": [
    {
     "data": {
      "application/javascript": [
       "require.undef(\"nbextensions/vpython_libraries/glow.min\");"
      ],
      "text/plain": [
       "<IPython.core.display.Javascript object>"
      ]
     },
     "metadata": {},
     "output_type": "display_data"
    },
    {
     "data": {
      "application/javascript": [
       "require.undef(\"nbextensions/vpython_libraries/glowcomm\");"
      ],
      "text/plain": [
       "<IPython.core.display.Javascript object>"
      ]
     },
     "metadata": {},
     "output_type": "display_data"
    },
    {
     "data": {
      "application/javascript": [
       "require.undef(\"nbextensions/vpython_libraries/jquery-ui.custom.min\");"
      ],
      "text/plain": [
       "<IPython.core.display.Javascript object>"
      ]
     },
     "metadata": {},
     "output_type": "display_data"
    },
    {
     "data": {
      "application/javascript": [
       "require([\"nbextensions/vpython_libraries/glow.min\"], function(){console.log(\"GLOW LOADED\");})"
      ],
      "text/plain": [
       "<IPython.core.display.Javascript object>"
      ]
     },
     "metadata": {},
     "output_type": "display_data"
    },
    {
     "data": {
      "application/javascript": [
       "require([\"nbextensions/vpython_libraries/glowcomm\"], function(){console.log(\"GLOWCOMM LOADED\");})"
      ],
      "text/plain": [
       "<IPython.core.display.Javascript object>"
      ]
     },
     "metadata": {},
     "output_type": "display_data"
    },
    {
     "data": {
      "application/javascript": [
       "require([\"nbextensions/vpython_libraries/jquery-ui.custom.min\"], function(){console.log(\"JQUERY LOADED\");})"
      ],
      "text/plain": [
       "<IPython.core.display.Javascript object>"
      ]
     },
     "metadata": {},
     "output_type": "display_data"
    },
    {
     "data": {
      "text/html": [
       "<div id=\"glowscript\" class=\"glowscript\"></div>"
      ],
      "text/plain": [
       "<IPython.core.display.HTML object>"
      ]
     },
     "metadata": {},
     "output_type": "display_data"
    },
    {
     "data": {
      "application/javascript": [
       "window.__context = { glowscript_container: $(\"#glowscript\").removeAttr(\"id\")}"
      ],
      "text/plain": [
       "<IPython.core.display.Javascript object>"
      ]
     },
     "metadata": {},
     "output_type": "display_data"
    }
   ],
   "source": [
    "from vpython import *\n",
    "from graph_functions import graph_simpletrig, graph_sumtrig\n",
    "import math\n",
    "import time\n",
    "import pyaudio\n",
    "import numpy as np\n",
    "\n",
    "def playSound():\n",
    "    global all_graphs\n",
    "    volume = 1.0     # range [0.0, 1.0]\n",
    "    fs = 44100       # sampling rate, Hz, must be integer\n",
    "    duration = 5.0   # in seconds, may be float\n",
    "    f = 440.0  \n",
    "    functions = 0\n",
    "    for i in range(len(all_graphs)):\n",
    "        functions+= np.sin()\n",
    "    samples = (np.sin(2*np.pi*np.arange(fs*duration)*f/fs)).astype(np.float32)\n",
    "\n",
    "#set amplitude of the graph that is being changed\n",
    "def setAmplitude(s):\n",
    "    global all_graphs\n",
    "    global allBars\n",
    "    global allTexts\n",
    "    allTexts[allBars.index(s)].text=s.value\n",
    "    all_graphs[allBars.index(s)][1]=s.value\n",
    "    createGraph()\n",
    "\n",
    "#create the graph by first deleting old code\n",
    "def createGraph():\n",
    "    global all_graphs\n",
    "    global curve1\n",
    "    global gd\n",
    "    global visCurve\n",
    "    curve1.visible = False\n",
    "    curve1.delete()\n",
    "    gd.delete()\n",
    "    gd = graph(width=600, height=300,\n",
    "          title='<b>The Greatest Curve of All Time</b>',\n",
    "          xtitle='<i>x</i>', ytitle='<i>y</sup>',\n",
    "          foreground=color.black, background=color.white,\n",
    "          xmin=0, xmax=6*math.pi, ymin=-5, ymax=5)\n",
    "    curve1 = graph_sumtrig(curve1,all_graphs,color.blue,gd,visCurve)\n",
    "    displayFunctions()\n",
    "\n",
    "def displayFunctions():\n",
    "    global t\n",
    "    global all_graphs\n",
    "    setText = ''\n",
    "    for i in range(len(all_graphs)):\n",
    "        if all_graphs[i][1]==0:\n",
    "            continue\n",
    "        setText+=str(all_graphs[i][1])\n",
    "        if all_graphs[i][0]:\n",
    "            setText+=\"cos(\"\n",
    "        else:\n",
    "            setText+=\"sin(\"\n",
    "        setText+=str(round(all_graphs[i][2],3))+\"θ)+\"+str(all_graphs[i][3])+\"  \"\n",
    "    t.text = \"\\t\" + setText\n",
    "\n",
    "\n",
    "#sphere()\n",
    "amt_of_bars = 5\n",
    "all_graphs = []\n",
    "gd = graph(width=600, height=300,\n",
    "      title='<b>The Greatest Curve of All Time</b>',\n",
    "      xtitle='<i>x</i>', ytitle='<i>y</sup>',\n",
    "      foreground=color.black, background=color.white,\n",
    "      xmin=-4*math.pi, xmax=4*math.pi, ymin=-5, ymax=5)\n",
    "curve1 = gcurve(color =color.blue,graph=gd )\n",
    "allBars = []\n",
    "allTexts = []\n",
    "visCurve = curve()\n",
    "df = wtext(text = \"Display Function:\")\n",
    "t = wtext(text = 'Function: ', align = 'center' )\n",
    "\n",
    "#Create all the lists which contain the graphs\n",
    "for i in range(amt_of_bars):\n",
    "    all_graphs.append([0,0,float(1/(i+1)),0])\n",
    "\n",
    "#Creates all the sliders\n",
    "for i in range(amt_of_bars):\n",
    "    scene.append_to_caption('\\n\\n')\n",
    "    allBars.append(slider(min=-1.2, max=1.2, value=0, length=100, bind=setAmplitude,vertical=False,left=20,right=20))\n",
    "    wtext(text = (\"Graph \"+str(i+1)+\":\\t\"))\n",
    "    allTexts.append(wtext(text=str(allBars[i].value)))\n",
    "\n",
    "#creates initial graph\n",
    "createGraph()\n"
   ]
  }
 ],
 "metadata": {
  "kernelspec": {
   "display_name": "Python 3",
   "language": "python",
   "name": "python3"
  },
  "language_info": {
   "codemirror_mode": {
    "name": "ipython",
    "version": 3
   },
   "file_extension": ".py",
   "mimetype": "text/x-python",
   "name": "python",
   "nbconvert_exporter": "python",
   "pygments_lexer": "ipython3",
   "version": "3.6.5"
  }
 },
 "nbformat": 4,
 "nbformat_minor": 2
}
